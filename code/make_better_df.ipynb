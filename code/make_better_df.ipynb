{
 "cells": [
  {
   "cell_type": "code",
   "execution_count": 1,
   "metadata": {},
   "outputs": [],
   "source": [
    "import numpy as np\n",
    "import pandas as pd"
   ]
  },
  {
   "cell_type": "code",
   "execution_count": 55,
   "metadata": {},
   "outputs": [
    {
     "name": "stdout",
     "output_type": "stream",
     "text": [
      "(356, 151) (356, 1)\n"
     ]
    },
    {
     "data": {
      "text/plain": [
       "(356, 152)"
      ]
     },
     "execution_count": 55,
     "metadata": {},
     "output_type": "execute_result"
    }
   ],
   "source": [
    "df1 = pd.read_csv('High_PoltPow_Bkt5.csv')\n",
    "df1 = df1.iloc[:, 3:]\n",
    "\n",
    "df1.columns = np.around(np.arange(-10,20.2,.2),2)\n",
    "\n",
    "df2 = pd.read_csv('High_PoltPow_Bkt5.csv')\n",
    "df2 = df2.iloc[:, 0:1]\n",
    "\n",
    "print(df1.shape, df2.shape)\n",
    "df = pd.concat([df2,df1], axis = 1)\n",
    "df.shape"
   ]
  },
  {
   "cell_type": "code",
   "execution_count": 57,
   "metadata": {},
   "outputs": [],
   "source": [
    "########### creating slightly easier df##################\n",
    "new_data_list = []\n",
    "for idr, row in df.iterrows():\n",
    "    for idc, value in row.items():\n",
    "        if idc != 'Onroll Epc':\n",
    "            if not pd.isnull(value):\n",
    "                epc = row['Onroll Epc']\n",
    "                dist = idc\n",
    "                pow = value\n",
    "                data = [epc,dist,pow]\n",
    "                new_data_list.append(data)"
   ]
  },
  {
   "cell_type": "code",
   "execution_count": 59,
   "metadata": {},
   "outputs": [],
   "source": [
    "df = pd.DataFrame(new_data_list, columns = ['epc','dist','pow'])\n",
    "df.to_csv('High_polt_pow_ez.csv')"
   ]
  },
  {
   "cell_type": "markdown",
   "metadata": {},
   "source": [
    "All the files look the same so im just gonna turn that process into a function to make the rest faster"
   ]
  },
  {
   "cell_type": "code",
   "execution_count": 7,
   "metadata": {},
   "outputs": [],
   "source": [
    "def easy_file(file, new_file_name):\n",
    "    \"\"\"\n",
    "    converts pltpow files to a more regressable format under the name new_file_name. File has columns:\n",
    "\n",
    "    index|EPC (Epc)|Distance from PLT (Dist)| Prob of winning (Pow)\n",
    "    \"\"\"\n",
    "    df1 = pd.read_csv(file)\n",
    "    df1 = df1.iloc[:, 3:]\n",
    "\n",
    "    df1.columns = np.around(np.arange(-10,20.2,.2),2)\n",
    "\n",
    "    df2 = pd.read_csv(file)\n",
    "    df2 = df2.iloc[:, 0:1]\n",
    "\n",
    "    df = pd.concat([df2,df1], axis = 1)\n",
    "    new_data_list = []\n",
    "    for idr, row in df.iterrows():\n",
    "        for idc, value in row.items():\n",
    "            if idc != 'Onroll Epc':\n",
    "                if not pd.isnull(value):\n",
    "                    epc = row['Onroll Epc']\n",
    "                    dist = idc\n",
    "                    pow = value\n",
    "                    data = [epc,dist,pow]\n",
    "                    new_data_list.append(data)\n",
    "\n",
    "    df = pd.DataFrame(new_data_list, columns = ['epc','dist','pow'])\n",
    "    df.to_csv(new_file_name+'.csv') "
   ]
  },
  {
   "cell_type": "code",
   "execution_count": 9,
   "metadata": {},
   "outputs": [],
   "source": [
    "easy_file('HighMedium_PoltPow_Bkt5.csv', 'HighMedium_polt_pow_easy')"
   ]
  }
 ],
 "metadata": {
  "interpreter": {
   "hash": "5f3d05cfa189ae7dba9a0c2af59696e6bfd9fa90cf4658823dc0ff8a549075f1"
  },
  "kernelspec": {
   "display_name": "Python 3.8.8 ('base')",
   "language": "python",
   "name": "python3"
  },
  "language_info": {
   "codemirror_mode": {
    "name": "ipython",
    "version": 3
   },
   "file_extension": ".py",
   "mimetype": "text/x-python",
   "name": "python",
   "nbconvert_exporter": "python",
   "pygments_lexer": "ipython3",
   "version": "3.8.8"
  },
  "orig_nbformat": 4
 },
 "nbformat": 4,
 "nbformat_minor": 2
}
