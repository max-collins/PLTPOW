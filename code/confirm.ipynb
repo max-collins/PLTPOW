{
 "cells": [
  {
   "cell_type": "code",
   "execution_count": 54,
   "metadata": {},
   "outputs": [],
   "source": [
    "import numpy as np\n",
    "import pandas as pd\n",
    "from sklearn.linear_model import LinearRegression\n",
    "from sklearn.metrics import mean_absolute_error\n",
    "from sklearn.metrics import r2_score"
   ]
  },
  {
   "cell_type": "markdown",
   "metadata": {},
   "source": [
    "We want to first confirm Benjamin's Model using LR on epc's of 38 or higher"
   ]
  },
  {
   "cell_type": "code",
   "execution_count": 55,
   "metadata": {},
   "outputs": [
    {
     "data": {
      "text/html": [
       "<div>\n",
       "<style scoped>\n",
       "    .dataframe tbody tr th:only-of-type {\n",
       "        vertical-align: middle;\n",
       "    }\n",
       "\n",
       "    .dataframe tbody tr th {\n",
       "        vertical-align: top;\n",
       "    }\n",
       "\n",
       "    .dataframe thead th {\n",
       "        text-align: right;\n",
       "    }\n",
       "</style>\n",
       "<table border=\"1\" class=\"dataframe\">\n",
       "  <thead>\n",
       "    <tr style=\"text-align: right;\">\n",
       "      <th></th>\n",
       "      <th>Unnamed: 0</th>\n",
       "      <th>epc</th>\n",
       "      <th>dist</th>\n",
       "      <th>pow</th>\n",
       "    </tr>\n",
       "  </thead>\n",
       "  <tbody>\n",
       "    <tr>\n",
       "      <th>7589</th>\n",
       "      <td>7589</td>\n",
       "      <td>38.0</td>\n",
       "      <td>-0.0</td>\n",
       "      <td>0.231210</td>\n",
       "    </tr>\n",
       "    <tr>\n",
       "      <th>7594</th>\n",
       "      <td>7594</td>\n",
       "      <td>38.0</td>\n",
       "      <td>1.0</td>\n",
       "      <td>0.209023</td>\n",
       "    </tr>\n",
       "    <tr>\n",
       "      <th>7598</th>\n",
       "      <td>7598</td>\n",
       "      <td>38.0</td>\n",
       "      <td>2.0</td>\n",
       "      <td>0.185000</td>\n",
       "    </tr>\n",
       "    <tr>\n",
       "      <th>7603</th>\n",
       "      <td>7603</td>\n",
       "      <td>38.0</td>\n",
       "      <td>3.0</td>\n",
       "      <td>0.164510</td>\n",
       "    </tr>\n",
       "    <tr>\n",
       "      <th>7608</th>\n",
       "      <td>7608</td>\n",
       "      <td>38.0</td>\n",
       "      <td>4.0</td>\n",
       "      <td>0.143952</td>\n",
       "    </tr>\n",
       "  </tbody>\n",
       "</table>\n",
       "</div>"
      ],
      "text/plain": [
       "      Unnamed: 0   epc  dist       pow\n",
       "7589        7589  38.0  -0.0  0.231210\n",
       "7594        7594  38.0   1.0  0.209023\n",
       "7598        7598  38.0   2.0  0.185000\n",
       "7603        7603  38.0   3.0  0.164510\n",
       "7608        7608  38.0   4.0  0.143952"
      ]
     },
     "execution_count": 55,
     "metadata": {},
     "output_type": "execute_result"
    }
   ],
   "source": [
    "df = pd.read_csv('High_polt_pow_ez.csv')\n",
    "df = df.loc[df['epc'] >= 38]\n",
    "df = df.loc[df['dist'] >= 0]\n",
    "df = df.loc[df['dist'] <= 6]\n",
    "df = df.loc[df['dist'] - round(df['dist']) == 0]\n",
    "df.head()"
   ]
  },
  {
   "cell_type": "code",
   "execution_count": 56,
   "metadata": {},
   "outputs": [],
   "source": [
    "X = df[['dist']]\n",
    "y = df['pow']"
   ]
  },
  {
   "cell_type": "code",
   "execution_count": 57,
   "metadata": {},
   "outputs": [
    {
     "name": "stdout",
     "output_type": "stream",
     "text": [
      "eq: -0.01709460844280231x + 0.2188479071363546\n"
     ]
    }
   ],
   "source": [
    "model = LinearRegression()\n",
    "model.fit(X,y)\n",
    "print('eq:', str(model.coef_[0])+'x', '+', model.intercept_)"
   ]
  },
  {
   "cell_type": "markdown",
   "metadata": {},
   "source": [
    "these numbers are lame and not over the boardy so we're gonna gix that a bit"
   ]
  },
  {
   "cell_type": "code",
   "execution_count": 58,
   "metadata": {},
   "outputs": [],
   "source": [
    "class Rounded_Reg:\n",
    "    def __init__(self, coeffs, intercept, round_degree):\n",
    "        self.coeffs = np.array([round(coeff, round_degree) for coeff in coeffs])\n",
    "        self.intercept = round(intercept, round_degree)\n",
    "\n",
    "    def predict(self, X):\n",
    "        y_pred = []\n",
    "        for i in range(len(X)):\n",
    "            prediction = self.coeffs*np.array(X.iloc[i]) + self.intercept\n",
    "            y_pred.append(prediction)\n",
    "        return np.array(y_pred)"
   ]
  },
  {
   "cell_type": "markdown",
   "metadata": {},
   "source": [
    "initialize the rounded model"
   ]
  },
  {
   "cell_type": "code",
   "execution_count": 59,
   "metadata": {},
   "outputs": [],
   "source": [
    "rmodel = Rounded_Reg([-0.01709460844280231],  0.2188479071363546, 2)"
   ]
  },
  {
   "cell_type": "code",
   "execution_count": 60,
   "metadata": {},
   "outputs": [
    {
     "name": "stdout",
     "output_type": "stream",
     "text": [
      "[-0.02] 0.22\n"
     ]
    }
   ],
   "source": [
    "print(rmodel.coeffs,rmodel.intercept)"
   ]
  },
  {
   "cell_type": "code",
   "execution_count": 61,
   "metadata": {},
   "outputs": [
    {
     "name": "stdout",
     "output_type": "stream",
     "text": [
      "0.008043859840675476\n",
      "0.89123151686623\n"
     ]
    }
   ],
   "source": [
    "y_pred = rmodel.predict(X)\n",
    "print(mean_absolute_error(y,y_pred))\n",
    "print(r2_score(y,y_pred))"
   ]
  },
  {
   "cell_type": "markdown",
   "metadata": {},
   "source": [
    "Pretty much confirming Benjamin's Model :) We can check the other categories like this:"
   ]
  },
  {
   "cell_type": "code",
   "execution_count": 62,
   "metadata": {},
   "outputs": [
    {
     "data": {
      "text/html": [
       "<div>\n",
       "<style scoped>\n",
       "    .dataframe tbody tr th:only-of-type {\n",
       "        vertical-align: middle;\n",
       "    }\n",
       "\n",
       "    .dataframe tbody tr th {\n",
       "        vertical-align: top;\n",
       "    }\n",
       "\n",
       "    .dataframe thead th {\n",
       "        text-align: right;\n",
       "    }\n",
       "</style>\n",
       "<table border=\"1\" class=\"dataframe\">\n",
       "  <thead>\n",
       "    <tr style=\"text-align: right;\">\n",
       "      <th></th>\n",
       "      <th>Unnamed: 0</th>\n",
       "      <th>epc</th>\n",
       "      <th>dist</th>\n",
       "      <th>pow</th>\n",
       "    </tr>\n",
       "  </thead>\n",
       "  <tbody>\n",
       "    <tr>\n",
       "      <th>7616</th>\n",
       "      <td>7616</td>\n",
       "      <td>38.0</td>\n",
       "      <td>6.0</td>\n",
       "      <td>0.113786</td>\n",
       "    </tr>\n",
       "    <tr>\n",
       "      <th>7621</th>\n",
       "      <td>7621</td>\n",
       "      <td>38.0</td>\n",
       "      <td>7.0</td>\n",
       "      <td>0.099080</td>\n",
       "    </tr>\n",
       "    <tr>\n",
       "      <th>7626</th>\n",
       "      <td>7626</td>\n",
       "      <td>38.0</td>\n",
       "      <td>8.0</td>\n",
       "      <td>0.085887</td>\n",
       "    </tr>\n",
       "    <tr>\n",
       "      <th>7631</th>\n",
       "      <td>7631</td>\n",
       "      <td>38.0</td>\n",
       "      <td>9.0</td>\n",
       "      <td>0.075791</td>\n",
       "    </tr>\n",
       "    <tr>\n",
       "      <th>7636</th>\n",
       "      <td>7636</td>\n",
       "      <td>38.0</td>\n",
       "      <td>10.0</td>\n",
       "      <td>0.060619</td>\n",
       "    </tr>\n",
       "  </tbody>\n",
       "</table>\n",
       "</div>"
      ],
      "text/plain": [
       "      Unnamed: 0   epc  dist       pow\n",
       "7616        7616  38.0   6.0  0.113786\n",
       "7621        7621  38.0   7.0  0.099080\n",
       "7626        7626  38.0   8.0  0.085887\n",
       "7631        7631  38.0   9.0  0.075791\n",
       "7636        7636  38.0  10.0  0.060619"
      ]
     },
     "execution_count": 62,
     "metadata": {},
     "output_type": "execute_result"
    }
   ],
   "source": [
    "df1 = pd.read_csv('High_polt_pow_ez.csv')\n",
    "df1 = df1.loc[df1['epc'] >= 38]\n",
    "df1 = df1.loc[df1['dist'] >= 6]\n",
    "df1 = df1.loc[df1['dist'] - round(df1['dist']) == 0]\n",
    "df1 = df1.loc[df1['pow'] > .05]\n",
    "df1.head()\n"
   ]
  },
  {
   "cell_type": "code",
   "execution_count": 63,
   "metadata": {},
   "outputs": [],
   "source": [
    "X = df1[['dist']]\n",
    "y = df1['pow']"
   ]
  },
  {
   "cell_type": "code",
   "execution_count": 64,
   "metadata": {},
   "outputs": [
    {
     "name": "stdout",
     "output_type": "stream",
     "text": [
      "eq: -0.008940272761264485x + 0.16763202192257462\n"
     ]
    }
   ],
   "source": [
    "model = LinearRegression()\n",
    "model.fit(X,y)\n",
    "print('eq:', str(model.coef_[0])+'x', '+', model.intercept_)"
   ]
  },
  {
   "cell_type": "code",
   "execution_count": 65,
   "metadata": {},
   "outputs": [
    {
     "name": "stdout",
     "output_type": "stream",
     "text": [
      "[-0.01] 0.17\n"
     ]
    }
   ],
   "source": [
    "rmodel1 = Rounded_Reg([-0.008940272761264485], 0.16763202192257462, 2)\n",
    "print(rmodel1.coeffs,rmodel1.intercept)"
   ]
  },
  {
   "cell_type": "code",
   "execution_count": 66,
   "metadata": {},
   "outputs": [
    {
     "name": "stdout",
     "output_type": "stream",
     "text": [
      "0.00993561034582357\n",
      "0.7297604584296185\n"
     ]
    }
   ],
   "source": [
    "y_pred = rmodel1.predict(X)\n",
    "print(mean_absolute_error(y,y_pred))\n",
    "print(r2_score(y,y_pred))"
   ]
  },
  {
   "cell_type": "markdown",
   "metadata": {},
   "source": [
    "So rule of 17 looks pretty good. im gonna generalize now cause this is a little boring"
   ]
  },
  {
   "cell_type": "code",
   "execution_count": 67,
   "metadata": {},
   "outputs": [],
   "source": [
    "def get_rmodel(lower_epc, upper_epc, lower_dist, upper_dist):\n",
    "    df = pd.read_csv('High_polt_pow_ez.csv')\n",
    "    df = df.loc[df['epc'] >= lower_epc]\n",
    "    df = df.loc[df['epc'] <= upper_epc]\n",
    "    df = df.loc[df['dist'] >= lower_dist]\n",
    "    df = df.loc[df['dist'] <= upper_dist]\n",
    "    df = df.loc[df['dist'] - round(df['dist']) == 0]\n",
    "    df = df.loc[df['pow'] > .05]\n",
    "    \n",
    "    X = df[['dist']]\n",
    "    y = df['pow']\n",
    "\n",
    "    model = LinearRegression()\n",
    "    model.fit(X,y)\n",
    "\n",
    "    rmodel = Rounded_Reg(model.coef_, model.intercept_, 2)\n",
    "\n",
    "    y_pred = rmodel.predict(X)\n",
    "    error = mean_absolute_error(y, y_pred)\n",
    "    r2 = r2_score(y,y_pred)\n",
    "\n",
    "    return (rmodel.coeffs, rmodel.intercept, error, r2)"
   ]
  },
  {
   "cell_type": "code",
   "execution_count": 101,
   "metadata": {},
   "outputs": [
    {
     "name": "stdout",
     "output_type": "stream",
     "text": [
      "(array([-0.02]), 0.23, 0.007769757381679398, 0.9545376974741254)\n",
      "(array([-0.01]), 0.16, 0.003208691977142857, 0.9182980859248118)\n"
     ]
    }
   ],
   "source": [
    "print(get_rmodel(30, 38, 0, 6))\n",
    "print(get_rmodel(30, 38, 7, 12))"
   ]
  },
  {
   "cell_type": "code",
   "execution_count": 112,
   "metadata": {},
   "outputs": [
    {
     "name": "stdout",
     "output_type": "stream",
     "text": [
      "(array([-0.02]), 0.22, 0.010629599852678572, 0.9457760267739276)\n"
     ]
    }
   ],
   "source": [
    "print(get_rmodel(25, 30, 0, 9))"
   ]
  },
  {
   "cell_type": "code",
   "execution_count": 133,
   "metadata": {},
   "outputs": [
    {
     "name": "stdout",
     "output_type": "stream",
     "text": [
      "(array([-0.02]), 0.23, 0.009903926508196721, 0.9612487920723322)\n"
     ]
    }
   ],
   "source": [
    "print(get_rmodel(22, 25, 0, 9))"
   ]
  },
  {
   "cell_type": "markdown",
   "metadata": {},
   "source": [
    "Checking a baby strat here:"
   ]
  },
  {
   "cell_type": "code",
   "execution_count": 129,
   "metadata": {},
   "outputs": [],
   "source": [
    "    df = pd.read_csv('High_polt_pow_ez.csv')\n",
    "    df = df.loc[df['epc'] >= 22]\n",
    "    df = df.loc[df['dist'] >= 0]\n",
    "    df = df.loc[df['dist'] - round(df['dist']) == 0]\n",
    "    df = df.loc[df['pow'] > .05]"
   ]
  },
  {
   "cell_type": "code",
   "execution_count": 130,
   "metadata": {},
   "outputs": [],
   "source": [
    "X = df[['dist']]\n",
    "y = df['pow']"
   ]
  },
  {
   "cell_type": "code",
   "execution_count": 131,
   "metadata": {},
   "outputs": [],
   "source": [
    "rmodel = Rounded_Reg([-.02], 22, 2)"
   ]
  },
  {
   "cell_type": "code",
   "execution_count": 132,
   "metadata": {},
   "outputs": [
    {
     "data": {
      "text/plain": [
       "21.75495483503624"
      ]
     },
     "execution_count": 132,
     "metadata": {},
     "output_type": "execute_result"
    }
   ],
   "source": [
    "y_pred = rmodel.predict(X)\n",
    "\n",
    "mean_absolute_error(y,y_pred)"
   ]
  },
  {
   "cell_type": "markdown",
   "metadata": {},
   "source": [
    "yikes..."
   ]
  }
 ],
 "metadata": {
  "interpreter": {
   "hash": "5f3d05cfa189ae7dba9a0c2af59696e6bfd9fa90cf4658823dc0ff8a549075f1"
  },
  "kernelspec": {
   "display_name": "Python 3.8.8 ('base')",
   "language": "python",
   "name": "python3"
  },
  "language_info": {
   "codemirror_mode": {
    "name": "ipython",
    "version": 3
   },
   "file_extension": ".py",
   "mimetype": "text/x-python",
   "name": "python",
   "nbconvert_exporter": "python",
   "pygments_lexer": "ipython3",
   "version": "3.8.8"
  },
  "orig_nbformat": 4
 },
 "nbformat": 4,
 "nbformat_minor": 2
}
